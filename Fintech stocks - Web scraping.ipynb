{
 "cells": [
  {
   "cell_type": "code",
   "execution_count": 34,
   "id": "26b2e7a5-5f99-454f-9ae6-81640d451bca",
   "metadata": {},
   "outputs": [],
   "source": [
    "import yfinance as yf\n",
    "import pandas as pd\n",
    "import numpy as np\n",
    "from tqdm import tqdm\n",
    "from mdutils.mdutils import MdUtils\n",
    "from mdutils import Html\n",
    "from pathlib import Path"
   ]
  },
  {
   "cell_type": "code",
   "execution_count": 59,
   "id": "21688818-324f-4e81-950d-3da2035f5ec6",
   "metadata": {},
   "outputs": [],
   "source": [
    "etfs = [\n",
    "    \"FINX\", \"ARKF\", \"KOIN\", \n",
    "    \"FNTC\", \"EMFQ\", \"IPAY\",\n",
    "    \"TPAY\", \"BLOK\", \"BITQ\",\n",
    "    \"IYG\"\n",
    "]\n",
    "stocks = [\n",
    "    \"SQ\", \"PYPL\", \"GS\", \"MELI\", \"FISV\",\n",
    "    \"INTU\", \"AFRM\", \"SOFI\",\n",
    "    \"PAYO\", \"V\", \"MA\", \"GPN\",\n",
    "    \"EVOP\", \"FIS\", \"COIN\", \n",
    "    \"MARA\", \"FUTU\", \"UPST\",\n",
    "    \"OPEN\", \"GDOT\", \"LMND\",\n",
    "    \"HOOD\"\n",
    "]"
   ]
  },
  {
   "cell_type": "code",
   "execution_count": 55,
   "id": "7cdc6b26-9d83-4311-953f-75d72d379376",
   "metadata": {},
   "outputs": [],
   "source": [
    "def create_md_file(tck, data, fld):\n",
    "    details = data.info\n",
    "    mdFile = MdUtils(file_name=tck+'_company_information', \n",
    "                     title=details['longName'])\n",
    "    \n",
    "    cols = ['symbol', 'quoteType', 'longName', 'industry', 'sector', \n",
    "            'country', 'state', 'city',  'website', 'longBusinessSummary']\n",
    "\n",
    "    mdFile.new_header(level=1, title=\"Company Information\")\n",
    "    for i in cols:\n",
    "        if i not in details.keys():\n",
    "            continue\n",
    "        else:\n",
    "            mdFile.new_header(level=2, title=i)\n",
    "            mdFile.new_paragraph(details[i])\n",
    "            mdFile.new_paragraph()\n",
    "\n",
    "    mdFile.create_md_file()\n",
    "    \n",
    "    pth = tck+'_company_information.md'\n",
    "    Path(pth).rename(fld+pth)\n",
    "\n",
    "def historical_price(tickers_list, fld, prd=\"5y\"):\n",
    "    for tck in tqdm(tickers_list, desc=\"Pulling market prices...\"):\n",
    "        prefix = fld+tck+\"_\"\n",
    "        data = yf.Ticker(tck)\n",
    "        # Save info to MD\n",
    "        create_md_file(tck, data, fld)\n",
    "        \n",
    "        # get historical market data\n",
    "        hist_df = pd.DataFrame(data.history(period=prd))\n",
    "        hist_df.to_csv(prefix+\".csv\")"
   ]
  },
  {
   "cell_type": "code",
   "execution_count": 56,
   "id": "ea0aca43-9dc0-4eba-b9f3-6da408a95b47",
   "metadata": {},
   "outputs": [
    {
     "name": "stderr",
     "output_type": "stream",
     "text": [
      "Pulling market prices...: 100%|██████████| 10/10 [00:11<00:00,  1.19s/it]\n"
     ]
    }
   ],
   "source": [
    "historical_price(etfs, fld=\"ETFs/\")"
   ]
  },
  {
   "cell_type": "code",
   "execution_count": 60,
   "id": "c8971ae6-b8dc-4140-84e2-9e47a672f22f",
   "metadata": {},
   "outputs": [
    {
     "name": "stderr",
     "output_type": "stream",
     "text": [
      "Pulling market prices...: 100%|██████████| 22/22 [00:26<00:00,  1.19s/it]\n"
     ]
    }
   ],
   "source": [
    "historical_price(stocks, fld=\"Stocks/\")"
   ]
  }
 ],
 "metadata": {
  "kernelspec": {
   "display_name": "Python 3 (ipykernel)",
   "language": "python",
   "name": "python3"
  },
  "language_info": {
   "codemirror_mode": {
    "name": "ipython",
    "version": 3
   },
   "file_extension": ".py",
   "mimetype": "text/x-python",
   "name": "python",
   "nbconvert_exporter": "python",
   "pygments_lexer": "ipython3",
   "version": "3.9.12"
  }
 },
 "nbformat": 4,
 "nbformat_minor": 5
}
