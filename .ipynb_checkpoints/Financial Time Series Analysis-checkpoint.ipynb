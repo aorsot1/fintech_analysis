{
 "cells": [
  {
   "cell_type": "markdown",
   "id": "02b89fa5-f9f7-4293-8c77-4e675405fa43",
   "metadata": {},
   "source": [
    "# Time Series Analysis: \n",
    "## Table of Contents\n",
    "1. Basic Visualization\n",
    "2. Initial Diagonistics\n",
    "    * Pattern recognition\n",
    "    * How to treat missing values in a Time Series\n",
    "3. Additive and Multiplicative Time Series\n",
    "4. Decomposition\n",
    "5. Stationary\n",
    "    * How to make a time series stationary\n",
    "    * How to test for stationarity\n",
    "    * Difference between white noise and a stationary series\n",
    "    * SARIMA\n",
    "6. Detrend a Time Series\n",
    "7. Seasonality\n",
    "    * Deseasonalize a Time Series\n",
    "    * Test for seasonality of a Time Series\n",
    "8. Autocorrelation\n",
    "    * Autocorrelation and partial autocorrelation functions\n",
    "    * Compute partial autocorrelation function\n",
    "9. Lag Plots\n",
    "10. Smoothening a Time Series\n",
    "    * Exponential smoothing, Holt-Winters model\n",
    "11. Granger Causality test\n",
    "12. Machine Learning\n",
    "    * Feature Engineering\n",
    "        * Extraction\n",
    "        * Importance\n",
    "        * Selection\n",
    "    * Linear models\n",
    "    * Ensemble methods"
   ]
  },
  {
   "cell_type": "code",
   "execution_count": null,
   "id": "1573f7dc-d5d4-49b5-bf16-a5967314dfcc",
   "metadata": {},
   "outputs": [],
   "source": [
    "import pandas as pd\n",
    "import numpy as np\n",
    "\n",
    "from statsmodels.tsa.seasonal import seasonal_decompose\n",
    "from statsmodels.tsa.stattools import acf, pacf\n",
    "from statsmodels.graphics.tsaplots import plot_acf, plot_pacf\n",
    "from statsmodels.tsa.stattools import grangercausalitytests\n",
    "from dateutil.relativedelta import relativedelta # working with dates with style\n",
    "from scipy.optimize import minimize              # for function minimization\n",
    "# Test for seasonality\n",
    "from pandas.plotting import autocorrelation_plot\n",
    "\n",
    "# Using scipy: Subtract the line of best fit\n",
    "from scipy import signal\n",
    "\n",
    "import statsmodels.formula.api as smf            # statistics and econometrics\n",
    "import statsmodels.tsa.api as smt\n",
    "import statsmodels.api as sm\n",
    "import scipy.stats as scs\n",
    "\n",
    "from itertools import product                    # some useful functions\n",
    "from tqdm import tqdm_notebook\n",
    "\n",
    "from dateutil.parser import parse\n",
    "\n",
    "\n",
    "\n",
    "from sklearn.metrics import r2_score, median_absolute_error, mean_absolute_error\n",
    "from sklearn.metrics import median_absolute_error, mean_squared_error, mean_squared_log_error"
   ]
  },
  {
   "cell_type": "code",
   "execution_count": null,
   "id": "b6bcc0e1-aad5-4e69-8a4f-3b469139509a",
   "metadata": {},
   "outputs": [],
   "source": [
    "def mean_absolute_percentage_error(y_true, y_pred): \n",
    "    return np.mean(np.abs((y_true - y_pred) / y_true)) * 100"
   ]
  }
 ],
 "metadata": {
  "kernelspec": {
   "display_name": "Python 3 (ipykernel)",
   "language": "python",
   "name": "python3"
  },
  "language_info": {
   "codemirror_mode": {
    "name": "ipython",
    "version": 3
   },
   "file_extension": ".py",
   "mimetype": "text/x-python",
   "name": "python",
   "nbconvert_exporter": "python",
   "pygments_lexer": "ipython3",
   "version": "3.9.12"
  }
 },
 "nbformat": 4,
 "nbformat_minor": 5
}
